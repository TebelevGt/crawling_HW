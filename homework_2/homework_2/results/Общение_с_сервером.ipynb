{
 "cells": [
  {
   "cell_type": "code",
   "execution_count": 20,
   "id": "86820506",
   "metadata": {},
   "outputs": [
    {
     "name": "stdout",
     "output_type": "stream",
     "text": [
      "Ответ сервера: 200\n",
      "{'title': 'НОВОГОДНИЕ ИСТОРИИ', 'author': 'Остер Григорий', 'description': '\"Новогодние истории\" — это сборник фантастических историй и сказок про Новый год детского писателя и автора знаменитых \"Вредных советов\" Григория Остера. Любимые герои: мартышка, удав, попугай и слонёнок из сказки \"38 попугаев. Новая история про новогодний пирог\", а также дети и их родители из циклов \"Мифы и легенды Велтон-парка\" и \"Дети и Эти-4\" собрались, чтобы встретить волшебный зимний праздник. Удав и его друзья отправляются в Россию, чтобы достать зерно для новогоднего пирога, а дети и родители попадают во всевозможные новогодние приключения. Книга снабжена замечательными заданиями для детей. Рисунки современных художников Е. Антоненкова, Н. Воронцова.', 'price_amount': 521, 'price_currency': '₽', 'rating_value': 2.7, 'rating_count': None, 'publication_year': 2018, 'isbn': '978-5-17-110545-7', 'pages_cnt': 64, 'publisher': 'АСТ', 'book_cover': 'https://content.img-gorod.ru/pim/products/images/a0/37/018fd1f2-c2e7-76b4-aa69-0f4475d3a037.jpg?width=304&height=438&fit=bounds', 'source_url': 'https://www.chitai-gorod.ru/product/novogodnie-istorii-iz-mify-i-legendy-deti-i-eti-2664972'}\n",
      "Книга найдена: {'title': 'НОВОГОДНИЕ ИСТОРИИ', 'author': 'Остер Григорий', 'description': '\"Новогодние истории\" — это сборник фантастических историй и сказок про Новый год детского писателя и автора знаменитых \"Вредных советов\" Григория Остера. Любимые герои: мартышка, удав, попугай и слонёнок из сказки \"38 попугаев. Новая история про новогодний пирог\", а также дети и их родители из циклов \"Мифы и легенды Велтон-парка\" и \"Дети и Эти-4\" собрались, чтобы встретить волшебный зимний праздник. Удав и его друзья отправляются в Россию, чтобы достать зерно для новогоднего пирога, а дети и родители попадают во всевозможные новогодние приключения. Книга снабжена замечательными заданиями для детей. Рисунки современных художников Е. Антоненкова, Н. Воронцова.', 'price_amount': 521, 'price_currency': '₽', 'rating_value': 2.7, 'rating_count': None, 'publication_year': 2018, 'isbn': '978-5-17-110545-7', 'pages_cnt': 64, 'publisher': 'АСТ', 'book_cover': 'https://content.img-gorod.ru/pim/products/images/a0/37/018fd1f2-c2e7-76b4-aa69-0f4475d3a037.jpg?width=304&height=438&fit=bounds', 'source_url': 'https://www.chitai-gorod.ru/product/novogodnie-istorii-iz-mify-i-legendy-deti-i-eti-2664972'}\n"
     ]
    }
   ],
   "source": [
    "import requests\n",
    "\n",
    "isbn = \"978-5-17-110545-7\"\n",
    "response = requests.get(f\"http://localhost:8000/search_by_isbn?isbn={isbn}\")\n",
    "print(\"Ответ сервера:\", response.status_code)\n",
    "if response.status_code == 200:\n",
    "    book = response.json()\n",
    "    print(book)\n",
    "    print(\"Книга найдена:\", book)\n",
    "else:\n",
    "    print(\"Ошибка:\", response.json().get('detail', 'Неизвестная ошибка'))"
   ]
  },
  {
   "cell_type": "code",
   "execution_count": null,
   "id": "0ca39c0e",
   "metadata": {},
   "outputs": [],
   "source": []
  }
 ],
 "metadata": {
  "kernelspec": {
   "display_name": "Python 3 (ipykernel)",
   "language": "python",
   "name": "python3"
  },
  "language_info": {
   "codemirror_mode": {
    "name": "ipython",
    "version": 3
   },
   "file_extension": ".py",
   "mimetype": "text/x-python",
   "name": "python",
   "nbconvert_exporter": "python",
   "pygments_lexer": "ipython3",
   "version": "3.11.5"
  }
 },
 "nbformat": 4,
 "nbformat_minor": 5
}
